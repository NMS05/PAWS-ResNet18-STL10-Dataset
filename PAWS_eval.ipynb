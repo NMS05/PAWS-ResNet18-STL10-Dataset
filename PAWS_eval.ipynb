{
  "cells": [
    {
      "cell_type": "code",
      "execution_count": 1,
      "metadata": {
        "id": "XnhjXCRx6Hzo"
      },
      "outputs": [],
      "source": [
        "import os\n",
        "import pandas as pd\n",
        "import numpy as np\n",
        "\n",
        "import torch\n",
        "import torch.nn as nn\n",
        "from torch.utils.data import DataLoader\n",
        "\n",
        "import torchvision\n",
        "import torchvision.transforms as T"
      ]
    },
    {
      "cell_type": "markdown",
      "metadata": {
        "id": "G-7mBCRB3WB6"
      },
      "source": [
        "# Evaluation - Linear Probing"
      ]
    },
    {
      "cell_type": "code",
      "execution_count": 11,
      "metadata": {
        "colab": {
          "base_uri": "https://localhost:8080/"
        },
        "id": "tIUfX8yl9vt1",
        "outputId": "17140fda-2346-41db-fdf5-61dd742eb8f8"
      },
      "outputs": [
        {
          "name": "stdout",
          "output_type": "stream",
          "text": [
            "Files already downloaded and verified\n",
            "Files already downloaded and verified\n"
          ]
        }
      ],
      "source": [
        "train_data = torchvision.datasets.STL10('./content',split='train',download=True,transform=T.ToTensor())\n",
        "test_data = torchvision.datasets.STL10('./content',split='test',download=True,transform=T.ToTensor())\n",
        "\n",
        "batch_size = 16\n",
        "train_data_loader = DataLoader(train_data,batch_size)\n",
        "test_data_loader = DataLoader(test_data,batch_size)"
      ]
    },
    {
      "cell_type": "code",
      "execution_count": 12,
      "metadata": {
        "colab": {
          "base_uri": "https://localhost:8080/"
        },
        "id": "Dvm56MIn4hMi",
        "outputId": "74cf1364-0ae9-47ed-884a-b0a4e96b65c2"
      },
      "outputs": [
        {
          "name": "stdout",
          "output_type": "stream",
          "text": [
            "1290\n"
          ]
        }
      ],
      "source": [
        "class ResNet18(nn.Module):\n",
        "    def __init__(self,):\n",
        "        super(ResNet18, self).__init__()\n",
        "        resnet18 = torchvision.models.resnet18()\n",
        "        resnet18.fc = nn.Linear(resnet18.fc.in_features,128)\n",
        "        self.base_model = resnet18\n",
        "        self.classifier = nn.Linear(128,10)\n",
        "\n",
        "    def forward(self,x):\n",
        "      features = self.base_model(x)\n",
        "      predictions = self.classifier(features)\n",
        "      return predictions\n",
        "\n",
        "test_model = ResNet18()\n",
        "\n",
        "\"\"\"\n",
        "Load the pretrained weights (comment the following line to check the linear probing accuray with random weights)\n",
        "\"\"\"\n",
        "test_model.base_model.load_state_dict(torch.load('/content/paws_weights.pth'))\n",
        "\n",
        "for p in test_model.base_model.parameters(): p.requires_grad=False\n",
        "print(sum(p.numel() for p in test_model.parameters() if p.requires_grad))"
      ]
    },
    {
      "cell_type": "code",
      "execution_count": 13,
      "metadata": {
        "id": "s0kmQHsdcq1-"
      },
      "outputs": [],
      "source": [
        "def train_one_epoch(train_data_loader,model,optimizer,loss_fn):\n",
        "    \n",
        "    ### Local Parameters\n",
        "    epoch_loss = []\n",
        "    sum_correct_pred = 0\n",
        "    total_samples = 0\n",
        "    \n",
        "    model.train()\n",
        "\n",
        "    ###Iterating over data loader\n",
        "    for images, labels in train_data_loader:\n",
        "        \n",
        "        #Loading images and labels to device\n",
        "        images = images.to(device)\n",
        "        labels = labels.to(device)\n",
        "        \n",
        "        #Reseting Gradients\n",
        "        optimizer.zero_grad()\n",
        "        \n",
        "        #Forward\n",
        "        preds = model(images)\n",
        "        #Calculating Loss\n",
        "        _loss = loss_fn(preds, labels)\n",
        "        loss = _loss.item()\n",
        "        epoch_loss.append(loss)\n",
        "        \n",
        "        #Backward\n",
        "        _loss.backward()\n",
        "        optimizer.step()\n",
        "\n",
        "        sum_correct_pred += (torch.argmax(preds,dim=1) == labels).sum().item()\n",
        "        total_samples += len(labels)\n",
        "\n",
        "    acc = round(sum_correct_pred/total_samples,4)*100\n",
        "    ###Acc and Loss\n",
        "    epoch_loss = np.mean(epoch_loss)\n",
        "    \n",
        "    return epoch_loss, acc\n",
        "\n",
        "def val_one_epoch(val_data_loader, model,loss_fn):\n",
        "    \n",
        "    ### Local Parameters\n",
        "    epoch_loss = []\n",
        "    sum_correct_pred = 0\n",
        "    total_samples = 0\n",
        "\n",
        "    model.eval()\n",
        "    \n",
        "    ###Iterating over data loader\n",
        "    with torch.no_grad():\n",
        "      for images, labels in val_data_loader:\n",
        "\n",
        "        #Loading images and labels to device\n",
        "        images = images.to(device)\n",
        "        labels = labels.to(device)\n",
        "      \n",
        "        #Forward\n",
        "        preds = model(images)\n",
        "        \n",
        "        #Calculating Loss\n",
        "        _loss = loss_fn(preds, labels)\n",
        "        loss = _loss.item()\n",
        "        epoch_loss.append(loss)\n",
        "\n",
        "        sum_correct_pred += (torch.argmax(preds,dim=1) == labels).sum().item()\n",
        "        total_samples += len(labels)\n",
        "\n",
        "    acc = round(sum_correct_pred/total_samples,4)*100\n",
        "    ###Acc and Loss\n",
        "    epoch_loss = np.mean(epoch_loss)\n",
        "\n",
        "    return epoch_loss, acc"
      ]
    },
    {
      "cell_type": "code",
      "execution_count": 14,
      "metadata": {
        "id": "NigP5gdCiuh-"
      },
      "outputs": [],
      "source": [
        "# Optimizer\n",
        "test_optimizer = torch.optim.Adam(test_model.parameters(), lr = 3e-4)\n",
        "#Loss Function\n",
        "test_loss_fn = nn.CrossEntropyLoss()\n",
        "\n",
        "device = torch.device(\"cuda\" if torch.cuda.is_available() else \"cpu\")"
      ]
    },
    {
      "cell_type": "code",
      "execution_count": 15,
      "metadata": {
        "colab": {
          "base_uri": "https://localhost:8080/"
        },
        "id": "K0PTNINvjFIE",
        "outputId": "58eaf47b-a3a6-4ff2-9d06-a3bb2f1bffa0"
      },
      "outputs": [
        {
          "name": "stdout",
          "output_type": "stream",
          "text": [
            "\n",
            "Epoch 1\n",
            "Train Acc : 47.64\n",
            "Test Acc : 56.15\n",
            "\n",
            "Epoch 2\n",
            "Train Acc : 56.5\n",
            "Test Acc : 56.81\n",
            "\n",
            "Epoch 3\n",
            "Train Acc : 57.26\n",
            "Test Acc : 57.35\n",
            "\n",
            "Epoch 4\n",
            "Train Acc : 57.6\n",
            "Test Acc : 57.36\n",
            "\n",
            "Epoch 5\n",
            "Train Acc : 57.92\n",
            "Test Acc : 57.47\n",
            "\n",
            "Epoch 6\n",
            "Train Acc : 58.06\n",
            "Test Acc : 57.46\n",
            "\n",
            "Epoch 7\n",
            "Train Acc : 58.38\n",
            "Test Acc : 57.54\n",
            "\n",
            "Epoch 8\n",
            "Train Acc : 58.42\n",
            "Test Acc : 57.8\n",
            "\n",
            "Epoch 9\n",
            "Train Acc : 58.5\n",
            "Test Acc : 57.87\n",
            "\n",
            "Epoch 10\n",
            "Train Acc : 58.64\n",
            "Test Acc : 57.94\n",
            "\n",
            "Epoch 11\n",
            "Train Acc : 58.7\n",
            "Test Acc : 57.94\n",
            "\n",
            "Epoch 12\n",
            "Train Acc : 58.9\n",
            "Test Acc : 58.0\n",
            "\n",
            "Epoch 13\n",
            "Train Acc : 59.02\n",
            "Test Acc : 58.09\n",
            "\n",
            "Epoch 14\n",
            "Train Acc : 59.12\n",
            "Test Acc : 58.16\n",
            "\n",
            "Epoch 15\n",
            "Train Acc : 59.16\n",
            "Test Acc : 58.29\n"
          ]
        }
      ],
      "source": [
        "test_model.to(device)\n",
        "\n",
        "for epoch in range(15):\n",
        "    \n",
        "    ###Training\n",
        "    loss, acc = train_one_epoch(train_data_loader,test_model,test_optimizer,test_loss_fn)\n",
        "    print(\"\\nEpoch {}\".format(epoch+1))\n",
        "    print(\"Train Acc : {}\".format(round(acc, 4)))\n",
        "    \n",
        "    ###Validation\n",
        "    val_loss, val_acc = val_one_epoch(test_data_loader,test_model,test_loss_fn)\n",
        "    print(\"Test Acc : {}\".format(round(val_acc, 4)))"
      ]
    }
  ],
  "metadata": {
    "accelerator": "GPU",
    "colab": {
      "provenance": []
    },
    "gpuClass": "standard",
    "kernelspec": {
      "display_name": "Python 3",
      "name": "python3"
    },
    "language_info": {
      "name": "python"
    }
  },
  "nbformat": 4,
  "nbformat_minor": 0
}
